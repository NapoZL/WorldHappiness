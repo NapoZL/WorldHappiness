{
 "cells": [
  {
   "cell_type": "code",
   "execution_count": 1,
   "id": "fb1edc3f-6f50-4087-a7b4-a86d57e64b30",
   "metadata": {},
   "outputs": [],
   "source": [
    "import pandas as pd"
   ]
  },
  {
   "cell_type": "markdown",
   "id": "ca497ee4-d7ed-4fcf-8df2-b7f0da3e6a58",
   "metadata": {},
   "source": [
    "## Reading files"
   ]
  },
  {
   "cell_type": "code",
   "execution_count": 2,
   "id": "0a389ee7-7fa2-4523-95ea-1f45ae4ac6f8",
   "metadata": {},
   "outputs": [],
   "source": [
    "wh2018 = pd.read_csv('2018_v2.csv')\n",
    "wh2019 = pd.read_csv('2019_v2.csv')"
   ]
  },
  {
   "cell_type": "markdown",
   "id": "72f1cf5f-7cc4-4dfa-9dc8-51105a51d652",
   "metadata": {},
   "source": [
    "Adding extra column to identify year of population"
   ]
  },
  {
   "cell_type": "code",
   "execution_count": 3,
   "id": "ec21e6da-422e-4a8e-8aac-e601e30b89dd",
   "metadata": {},
   "outputs": [],
   "source": [
    "wh2018['year'] = 2018\n",
    "wh2019['year'] = 2019"
   ]
  },
  {
   "cell_type": "markdown",
   "id": "e3fdff02-1732-477b-a78b-f97aea07b013",
   "metadata": {},
   "source": [
    "Union of three files"
   ]
  },
  {
   "cell_type": "code",
   "execution_count": 4,
   "id": "ab6d0ee5-911c-4d6f-8889-058467e7015a",
   "metadata": {},
   "outputs": [],
   "source": [
    "wh = pd.concat([wh2018,wh2019])"
   ]
  },
  {
   "cell_type": "code",
   "execution_count": 5,
   "id": "54d33b78-43e1-4904-92b0-485e8d2abefa",
   "metadata": {},
   "outputs": [
    {
     "data": {
      "text/plain": [
       "Index(['Overall rank', 'Country or region', 'Score', 'GDP per capita',\n",
       "       'Social support', 'Healthy life expectancy',\n",
       "       'Freedom to make life choices', 'Generosity',\n",
       "       'Perceptions of corruption', 'year'],\n",
       "      dtype='object')"
      ]
     },
     "execution_count": 5,
     "metadata": {},
     "output_type": "execute_result"
    }
   ],
   "source": [
    "wh.columns"
   ]
  },
  {
   "cell_type": "markdown",
   "id": "fe6f96ee-b677-442e-b1f7-8d2617200937",
   "metadata": {},
   "source": [
    "## Ejercicios\n",
    "\n",
    "1. Partiendo de Wh, realice un analisis de valores nulos. que porcentaje de valores nulos se encuentran en cada columna por anio. presente el analisis en un dataframe"
   ]
  },
  {
   "cell_type": "markdown",
   "id": "fac6f6e3-8f5a-48bb-9a06-632757c857be",
   "metadata": {},
   "source": [
    "Ejemplo:"
   ]
  },
  {
   "cell_type": "code",
   "execution_count": 61,
   "id": "748a8b4c-85aa-4cff-96a3-61bcf2a8e466",
   "metadata": {},
   "outputs": [
    {
     "data": {
      "text/html": [
       "<div>\n",
       "<style scoped>\n",
       "    .dataframe tbody tr th:only-of-type {\n",
       "        vertical-align: middle;\n",
       "    }\n",
       "\n",
       "    .dataframe tbody tr th {\n",
       "        vertical-align: top;\n",
       "    }\n",
       "\n",
       "    .dataframe thead th {\n",
       "        text-align: right;\n",
       "    }\n",
       "</style>\n",
       "<table border=\"1\" class=\"dataframe\">\n",
       "  <thead>\n",
       "    <tr style=\"text-align: right;\">\n",
       "      <th></th>\n",
       "      <th>year</th>\n",
       "      <th>column</th>\n",
       "      <th>percentage.of.nans</th>\n",
       "    </tr>\n",
       "  </thead>\n",
       "  <tbody>\n",
       "    <tr>\n",
       "      <th>0</th>\n",
       "      <td>2017</td>\n",
       "      <td>Happiness.Rank</td>\n",
       "      <td>0.2</td>\n",
       "    </tr>\n",
       "    <tr>\n",
       "      <th>1</th>\n",
       "      <td>2017</td>\n",
       "      <td>Whisker.low</td>\n",
       "      <td>0.2</td>\n",
       "    </tr>\n",
       "  </tbody>\n",
       "</table>\n",
       "</div>"
      ],
      "text/plain": [
       "   year          column  percentage.of.nans\n",
       "0  2017  Happiness.Rank                 0.2\n",
       "1  2017     Whisker.low                 0.2"
      ]
     },
     "execution_count": 61,
     "metadata": {},
     "output_type": "execute_result"
    }
   ],
   "source": [
    "pd.DataFrame({\n",
    "    \"year\": [2017,2017]\n",
    "    , \"column\" : [\"Happiness.Rank\",\"Whisker.low\"]\n",
    "    , \"percentage.of.nans\" : [0.2,0.2]\n",
    "})"
   ]
  },
  {
   "cell_type": "markdown",
   "id": "ad19d0f9-2980-4411-9166-3760db06212f",
   "metadata": {},
   "source": [
    "### resolucion ejercicio uno"
   ]
  },
  {
   "cell_type": "code",
   "execution_count": 7,
   "id": "e99d9148-31d5-4564-be5e-aef7a61765ef",
   "metadata": {},
   "outputs": [],
   "source": [
    "porcentaje_vacios = ((wh.isnull().sum() / len(wh))*100).sort_values(ascending = False)"
   ]
  },
  {
   "cell_type": "code",
   "execution_count": 8,
   "id": "371f1602-ced9-4242-acdb-a8b518379fed",
   "metadata": {},
   "outputs": [
    {
     "data": {
      "text/plain": [
       "Healthy life expectancy         8.333333\n",
       "Freedom to make life choices    7.371795\n",
       "Generosity                      6.730769\n",
       "Score                           6.089744\n",
       "Social support                  5.128205\n",
       "Perceptions of corruption       4.166667\n",
       "GDP per capita                  3.846154\n",
       "Overall rank                    0.000000\n",
       "Country or region               0.000000\n",
       "year                            0.000000\n",
       "dtype: float64"
      ]
     },
     "execution_count": 8,
     "metadata": {},
     "output_type": "execute_result"
    }
   ],
   "source": [
    "porcentaje_vacios"
   ]
  },
  {
   "cell_type": "code",
   "execution_count": 48,
   "id": "06a500e8-3e60-47b0-88bc-d54c75c298ff",
   "metadata": {},
   "outputs": [],
   "source": [
    "x = pd.DataFrame({\n",
    "    \"porcentaje vacios\": porcentaje_vacios\n",
    "})"
   ]
  },
  {
   "cell_type": "code",
   "execution_count": 49,
   "id": "c6b15030-e084-40a5-a70d-ba61999f91ca",
   "metadata": {},
   "outputs": [
    {
     "data": {
      "text/html": [
       "<div>\n",
       "<style scoped>\n",
       "    .dataframe tbody tr th:only-of-type {\n",
       "        vertical-align: middle;\n",
       "    }\n",
       "\n",
       "    .dataframe tbody tr th {\n",
       "        vertical-align: top;\n",
       "    }\n",
       "\n",
       "    .dataframe thead th {\n",
       "        text-align: right;\n",
       "    }\n",
       "</style>\n",
       "<table border=\"1\" class=\"dataframe\">\n",
       "  <thead>\n",
       "    <tr style=\"text-align: right;\">\n",
       "      <th></th>\n",
       "      <th>porcentaje vacios</th>\n",
       "      <th>Columnas</th>\n",
       "    </tr>\n",
       "  </thead>\n",
       "  <tbody>\n",
       "    <tr>\n",
       "      <th>Healthy life expectancy</th>\n",
       "      <td>8.333333</td>\n",
       "      <td>Overall rank</td>\n",
       "    </tr>\n",
       "    <tr>\n",
       "      <th>Freedom to make life choices</th>\n",
       "      <td>7.371795</td>\n",
       "      <td>Country or region</td>\n",
       "    </tr>\n",
       "    <tr>\n",
       "      <th>Generosity</th>\n",
       "      <td>6.730769</td>\n",
       "      <td>Score</td>\n",
       "    </tr>\n",
       "    <tr>\n",
       "      <th>Score</th>\n",
       "      <td>6.089744</td>\n",
       "      <td>GDP per capita</td>\n",
       "    </tr>\n",
       "    <tr>\n",
       "      <th>Social support</th>\n",
       "      <td>5.128205</td>\n",
       "      <td>Social support</td>\n",
       "    </tr>\n",
       "    <tr>\n",
       "      <th>Perceptions of corruption</th>\n",
       "      <td>4.166667</td>\n",
       "      <td>Healthy life expectancy</td>\n",
       "    </tr>\n",
       "    <tr>\n",
       "      <th>GDP per capita</th>\n",
       "      <td>3.846154</td>\n",
       "      <td>Freedom to make life choices</td>\n",
       "    </tr>\n",
       "    <tr>\n",
       "      <th>Overall rank</th>\n",
       "      <td>0.000000</td>\n",
       "      <td>Generosity</td>\n",
       "    </tr>\n",
       "    <tr>\n",
       "      <th>Country or region</th>\n",
       "      <td>0.000000</td>\n",
       "      <td>Perceptions of corruption</td>\n",
       "    </tr>\n",
       "    <tr>\n",
       "      <th>year</th>\n",
       "      <td>0.000000</td>\n",
       "      <td>year</td>\n",
       "    </tr>\n",
       "  </tbody>\n",
       "</table>\n",
       "</div>"
      ],
      "text/plain": [
       "                              porcentaje vacios                      Columnas\n",
       "Healthy life expectancy                8.333333                  Overall rank\n",
       "Freedom to make life choices           7.371795             Country or region\n",
       "Generosity                             6.730769                         Score\n",
       "Score                                  6.089744                GDP per capita\n",
       "Social support                         5.128205                Social support\n",
       "Perceptions of corruption              4.166667       Healthy life expectancy\n",
       "GDP per capita                         3.846154  Freedom to make life choices\n",
       "Overall rank                           0.000000                    Generosity\n",
       "Country or region                      0.000000     Perceptions of corruption\n",
       "year                                   0.000000                          year"
      ]
     },
     "execution_count": 49,
     "metadata": {},
     "output_type": "execute_result"
    }
   ],
   "source": [
    "x"
   ]
  },
  {
   "cell_type": "code",
   "execution_count": 67,
   "id": "2044a50d-5b4c-4573-abaa-6a94af1a02d8",
   "metadata": {},
   "outputs": [],
   "source": [
    "problema1 = wh.groupby( [\"Overall rank\"], as_index = False )"
   ]
  },
  {
   "cell_type": "code",
   "execution_count": 68,
   "id": "3d9c1da9-a2a5-46af-b05a-883ca2abf343",
   "metadata": {},
   "outputs": [
    {
     "ename": "AttributeError",
     "evalue": "'DataFrameGroupBy' object has no attribute 'loc'",
     "output_type": "error",
     "traceback": [
      "\u001b[1;31m---------------------------------------------------------------------------\u001b[0m",
      "\u001b[1;31mAttributeError\u001b[0m                            Traceback (most recent call last)",
      "\u001b[1;32mC:\\Users\\Public\\Documents\\Wondershare\\CreatorTemp/ipykernel_12432/3765162738.py\u001b[0m in \u001b[0;36m<module>\u001b[1;34m\u001b[0m\n\u001b[1;32m----> 1\u001b[1;33m \u001b[0mproblema1\u001b[0m \u001b[1;33m=\u001b[0m  \u001b[0mproblema1\u001b[0m\u001b[1;33m.\u001b[0m\u001b[0mloc\u001b[0m\u001b[1;33m[\u001b[0m\u001b[1;33m:\u001b[0m\u001b[1;33m,\u001b[0m\u001b[1;33m[\u001b[0m\u001b[1;34m\"Overall rank\"\u001b[0m\u001b[1;33m]\u001b[0m\u001b[1;33m]\u001b[0m\u001b[1;33m.\u001b[0m\u001b[0mgroupby\u001b[0m\u001b[1;33m(\u001b[0m\u001b[1;33m[\u001b[0m\u001b[1;34m\"Overall rank\"\u001b[0m\u001b[1;33m]\u001b[0m\u001b[1;33m,\u001b[0m \u001b[0mas_index\u001b[0m \u001b[1;33m=\u001b[0m \u001b[1;32mFalse\u001b[0m\u001b[1;33m)\u001b[0m\u001b[1;33m\u001b[0m\u001b[1;33m\u001b[0m\u001b[0m\n\u001b[0m",
      "\u001b[1;32mC:\\ProgramData\\Anaconda3\\lib\\site-packages\\pandas\\core\\groupby\\groupby.py\u001b[0m in \u001b[0;36m__getattr__\u001b[1;34m(self, attr)\u001b[0m\n\u001b[0;32m    909\u001b[0m             \u001b[1;32mreturn\u001b[0m \u001b[0mself\u001b[0m\u001b[1;33m[\u001b[0m\u001b[0mattr\u001b[0m\u001b[1;33m]\u001b[0m\u001b[1;33m\u001b[0m\u001b[1;33m\u001b[0m\u001b[0m\n\u001b[0;32m    910\u001b[0m \u001b[1;33m\u001b[0m\u001b[0m\n\u001b[1;32m--> 911\u001b[1;33m         raise AttributeError(\n\u001b[0m\u001b[0;32m    912\u001b[0m             \u001b[1;34mf\"'{type(self).__name__}' object has no attribute '{attr}'\"\u001b[0m\u001b[1;33m\u001b[0m\u001b[1;33m\u001b[0m\u001b[0m\n\u001b[0;32m    913\u001b[0m         )\n",
      "\u001b[1;31mAttributeError\u001b[0m: 'DataFrameGroupBy' object has no attribute 'loc'"
     ]
    }
   ],
   "source": [
    "problema1 =  problema1.loc[:,[\"Overall rank\"]].groupby([\"Overall rank\"], as_index = False)"
   ]
  },
  {
   "cell_type": "code",
   "execution_count": 78,
   "id": "3836db6c-2c25-438d-89cf-12329c277765",
   "metadata": {},
   "outputs": [
    {
     "data": {
      "text/html": [
       "<div>\n",
       "<style scoped>\n",
       "    .dataframe tbody tr th:only-of-type {\n",
       "        vertical-align: middle;\n",
       "    }\n",
       "\n",
       "    .dataframe tbody tr th {\n",
       "        vertical-align: top;\n",
       "    }\n",
       "\n",
       "    .dataframe thead th {\n",
       "        text-align: right;\n",
       "    }\n",
       "</style>\n",
       "<table border=\"1\" class=\"dataframe\">\n",
       "  <thead>\n",
       "    <tr style=\"text-align: right;\">\n",
       "      <th></th>\n",
       "      <th>Overall rank</th>\n",
       "      <th>Country or region</th>\n",
       "      <th>Score</th>\n",
       "      <th>GDP per capita</th>\n",
       "      <th>Social support</th>\n",
       "      <th>Healthy life expectancy</th>\n",
       "      <th>Freedom to make life choices</th>\n",
       "      <th>Generosity</th>\n",
       "      <th>Perceptions of corruption</th>\n",
       "      <th>year</th>\n",
       "    </tr>\n",
       "  </thead>\n",
       "  <tbody>\n",
       "    <tr>\n",
       "      <th>0</th>\n",
       "      <td>1</td>\n",
       "      <td>Finland</td>\n",
       "      <td>7.632</td>\n",
       "      <td>1.305</td>\n",
       "      <td>1.592</td>\n",
       "      <td>0.874</td>\n",
       "      <td>0.681</td>\n",
       "      <td>0.202</td>\n",
       "      <td>0.393</td>\n",
       "      <td>None</td>\n",
       "    </tr>\n",
       "    <tr>\n",
       "      <th>1</th>\n",
       "      <td>2</td>\n",
       "      <td>Norway</td>\n",
       "      <td>7.594</td>\n",
       "      <td>1.456</td>\n",
       "      <td>1.582</td>\n",
       "      <td>0.861</td>\n",
       "      <td>0.686</td>\n",
       "      <td>0.286</td>\n",
       "      <td>0.340</td>\n",
       "      <td>None</td>\n",
       "    </tr>\n",
       "    <tr>\n",
       "      <th>2</th>\n",
       "      <td>3</td>\n",
       "      <td>Denmark</td>\n",
       "      <td>7.555</td>\n",
       "      <td>1.351</td>\n",
       "      <td>1.590</td>\n",
       "      <td>0.868</td>\n",
       "      <td>0.683</td>\n",
       "      <td>0.284</td>\n",
       "      <td>0.408</td>\n",
       "      <td>None</td>\n",
       "    </tr>\n",
       "    <tr>\n",
       "      <th>3</th>\n",
       "      <td>4</td>\n",
       "      <td>Iceland</td>\n",
       "      <td>7.495</td>\n",
       "      <td>1.343</td>\n",
       "      <td>NaN</td>\n",
       "      <td>0.914</td>\n",
       "      <td>0.677</td>\n",
       "      <td>NaN</td>\n",
       "      <td>0.138</td>\n",
       "      <td>None</td>\n",
       "    </tr>\n",
       "    <tr>\n",
       "      <th>4</th>\n",
       "      <td>5</td>\n",
       "      <td>Switzerland</td>\n",
       "      <td>7.487</td>\n",
       "      <td>1.420</td>\n",
       "      <td>1.549</td>\n",
       "      <td>0.927</td>\n",
       "      <td>0.660</td>\n",
       "      <td>0.256</td>\n",
       "      <td>0.357</td>\n",
       "      <td>None</td>\n",
       "    </tr>\n",
       "    <tr>\n",
       "      <th>...</th>\n",
       "      <td>...</td>\n",
       "      <td>...</td>\n",
       "      <td>...</td>\n",
       "      <td>...</td>\n",
       "      <td>...</td>\n",
       "      <td>...</td>\n",
       "      <td>...</td>\n",
       "      <td>...</td>\n",
       "      <td>...</td>\n",
       "      <td>...</td>\n",
       "    </tr>\n",
       "    <tr>\n",
       "      <th>151</th>\n",
       "      <td>152</td>\n",
       "      <td>Rwanda</td>\n",
       "      <td>3.334</td>\n",
       "      <td>0.359</td>\n",
       "      <td>0.711</td>\n",
       "      <td>0.614</td>\n",
       "      <td>0.555</td>\n",
       "      <td>0.217</td>\n",
       "      <td>0.411</td>\n",
       "      <td>None</td>\n",
       "    </tr>\n",
       "    <tr>\n",
       "      <th>152</th>\n",
       "      <td>153</td>\n",
       "      <td>Tanzania</td>\n",
       "      <td>3.231</td>\n",
       "      <td>0.476</td>\n",
       "      <td>0.885</td>\n",
       "      <td>0.499</td>\n",
       "      <td>0.417</td>\n",
       "      <td>0.276</td>\n",
       "      <td>0.147</td>\n",
       "      <td>None</td>\n",
       "    </tr>\n",
       "    <tr>\n",
       "      <th>153</th>\n",
       "      <td>154</td>\n",
       "      <td>Afghanistan</td>\n",
       "      <td>3.203</td>\n",
       "      <td>0.350</td>\n",
       "      <td>0.517</td>\n",
       "      <td>0.361</td>\n",
       "      <td>0.000</td>\n",
       "      <td>0.158</td>\n",
       "      <td>0.025</td>\n",
       "      <td>None</td>\n",
       "    </tr>\n",
       "    <tr>\n",
       "      <th>154</th>\n",
       "      <td>155</td>\n",
       "      <td>Central African Republic</td>\n",
       "      <td>3.083</td>\n",
       "      <td>0.026</td>\n",
       "      <td>0.000</td>\n",
       "      <td>0.105</td>\n",
       "      <td>0.225</td>\n",
       "      <td>0.235</td>\n",
       "      <td>0.035</td>\n",
       "      <td>None</td>\n",
       "    </tr>\n",
       "    <tr>\n",
       "      <th>155</th>\n",
       "      <td>156</td>\n",
       "      <td>South Sudan</td>\n",
       "      <td>2.853</td>\n",
       "      <td>0.306</td>\n",
       "      <td>0.575</td>\n",
       "      <td>0.295</td>\n",
       "      <td>0.010</td>\n",
       "      <td>0.202</td>\n",
       "      <td>0.091</td>\n",
       "      <td>None</td>\n",
       "    </tr>\n",
       "  </tbody>\n",
       "</table>\n",
       "<p>312 rows × 10 columns</p>\n",
       "</div>"
      ],
      "text/plain": [
       "     Overall rank         Country or region  Score  GDP per capita  \\\n",
       "0               1                   Finland  7.632           1.305   \n",
       "1               2                    Norway  7.594           1.456   \n",
       "2               3                   Denmark  7.555           1.351   \n",
       "3               4                   Iceland  7.495           1.343   \n",
       "4               5               Switzerland  7.487           1.420   \n",
       "..            ...                       ...    ...             ...   \n",
       "151           152                    Rwanda  3.334           0.359   \n",
       "152           153                  Tanzania  3.231           0.476   \n",
       "153           154               Afghanistan  3.203           0.350   \n",
       "154           155  Central African Republic  3.083           0.026   \n",
       "155           156               South Sudan  2.853           0.306   \n",
       "\n",
       "     Social support  Healthy life expectancy  Freedom to make life choices  \\\n",
       "0             1.592                    0.874                         0.681   \n",
       "1             1.582                    0.861                         0.686   \n",
       "2             1.590                    0.868                         0.683   \n",
       "3               NaN                    0.914                         0.677   \n",
       "4             1.549                    0.927                         0.660   \n",
       "..              ...                      ...                           ...   \n",
       "151           0.711                    0.614                         0.555   \n",
       "152           0.885                    0.499                         0.417   \n",
       "153           0.517                    0.361                         0.000   \n",
       "154           0.000                    0.105                         0.225   \n",
       "155           0.575                    0.295                         0.010   \n",
       "\n",
       "     Generosity  Perceptions of corruption  year  \n",
       "0         0.202                      0.393  None  \n",
       "1         0.286                      0.340  None  \n",
       "2         0.284                      0.408  None  \n",
       "3           NaN                      0.138  None  \n",
       "4         0.256                      0.357  None  \n",
       "..          ...                        ...   ...  \n",
       "151       0.217                      0.411  None  \n",
       "152       0.276                      0.147  None  \n",
       "153       0.158                      0.025  None  \n",
       "154       0.235                      0.035  None  \n",
       "155       0.202                      0.091  None  \n",
       "\n",
       "[312 rows x 10 columns]"
      ]
     },
     "execution_count": 78,
     "metadata": {},
     "output_type": "execute_result"
    }
   ],
   "source": [
    "wh"
   ]
  },
  {
   "cell_type": "markdown",
   "id": "76ceb543-1b4f-4a5f-9584-27259f6f4bb7",
   "metadata": {},
   "source": [
    "2. partiendo de Wh, por año muestre un resumen de todas las columnas.\n",
    "\n",
    "nota: aunque solo tenemos tres años, que pasaria si en nuestro dataframe tenemos 20 años? resuelva su ejercicio lo mas dinamico que se pueda\n",
    "\n",
    "### resolucion ejercicio dos"
   ]
  },
  {
   "cell_type": "code",
   "execution_count": 75,
   "id": "e6fb519a-7711-4c0f-ac76-0482a5c6c339",
   "metadata": {},
   "outputs": [
    {
     "name": "stdout",
     "output_type": "stream",
     "text": [
      "<class 'pandas.core.frame.DataFrame'>\n",
      "Int64Index: 312 entries, 0 to 155\n",
      "Data columns (total 10 columns):\n",
      " #   Column                        Non-Null Count  Dtype  \n",
      "---  ------                        --------------  -----  \n",
      " 0   Overall rank                  312 non-null    int64  \n",
      " 1   Country or region             312 non-null    object \n",
      " 2   Score                         293 non-null    float64\n",
      " 3   GDP per capita                300 non-null    float64\n",
      " 4   Social support                296 non-null    float64\n",
      " 5   Healthy life expectancy       286 non-null    float64\n",
      " 6   Freedom to make life choices  289 non-null    float64\n",
      " 7   Generosity                    291 non-null    float64\n",
      " 8   Perceptions of corruption     299 non-null    float64\n",
      " 9   year                          312 non-null    int64  \n",
      "dtypes: float64(7), int64(2), object(1)\n",
      "memory usage: 34.9+ KB\n"
     ]
    }
   ],
   "source": [
    "wh.year = wh.info()"
   ]
  },
  {
   "cell_type": "code",
   "execution_count": 122,
   "id": "346f97c3-a42a-4e23-97f0-5f0d2f8be26c",
   "metadata": {},
   "outputs": [
    {
     "data": {
      "text/html": [
       "<div>\n",
       "<style scoped>\n",
       "    .dataframe tbody tr th:only-of-type {\n",
       "        vertical-align: middle;\n",
       "    }\n",
       "\n",
       "    .dataframe tbody tr th {\n",
       "        vertical-align: top;\n",
       "    }\n",
       "\n",
       "    .dataframe thead th {\n",
       "        text-align: right;\n",
       "    }\n",
       "</style>\n",
       "<table border=\"1\" class=\"dataframe\">\n",
       "  <thead>\n",
       "    <tr style=\"text-align: right;\">\n",
       "      <th></th>\n",
       "      <th>Overall rank</th>\n",
       "      <th>Score</th>\n",
       "      <th>GDP per capita</th>\n",
       "      <th>Social support</th>\n",
       "      <th>Healthy life expectancy</th>\n",
       "      <th>Freedom to make life choices</th>\n",
       "      <th>Generosity</th>\n",
       "      <th>Perceptions of corruption</th>\n",
       "    </tr>\n",
       "  </thead>\n",
       "  <tbody>\n",
       "    <tr>\n",
       "      <th>count</th>\n",
       "      <td>312.000000</td>\n",
       "      <td>293.000000</td>\n",
       "      <td>300.000000</td>\n",
       "      <td>296.000000</td>\n",
       "      <td>286.000000</td>\n",
       "      <td>289.000000</td>\n",
       "      <td>291.000000</td>\n",
       "      <td>299.000000</td>\n",
       "    </tr>\n",
       "    <tr>\n",
       "      <th>mean</th>\n",
       "      <td>78.500000</td>\n",
       "      <td>5.392816</td>\n",
       "      <td>0.896833</td>\n",
       "      <td>1.207145</td>\n",
       "      <td>0.659832</td>\n",
       "      <td>0.425872</td>\n",
       "      <td>0.183309</td>\n",
       "      <td>0.110950</td>\n",
       "    </tr>\n",
       "    <tr>\n",
       "      <th>std</th>\n",
       "      <td>45.104737</td>\n",
       "      <td>1.108112</td>\n",
       "      <td>0.399329</td>\n",
       "      <td>0.302437</td>\n",
       "      <td>0.256373</td>\n",
       "      <td>0.155103</td>\n",
       "      <td>0.096846</td>\n",
       "      <td>0.095574</td>\n",
       "    </tr>\n",
       "    <tr>\n",
       "      <th>min</th>\n",
       "      <td>1.000000</td>\n",
       "      <td>2.853000</td>\n",
       "      <td>0.000000</td>\n",
       "      <td>0.000000</td>\n",
       "      <td>0.000000</td>\n",
       "      <td>0.000000</td>\n",
       "      <td>0.000000</td>\n",
       "      <td>0.000000</td>\n",
       "    </tr>\n",
       "    <tr>\n",
       "      <th>25%</th>\n",
       "      <td>39.750000</td>\n",
       "      <td>4.519000</td>\n",
       "      <td>0.588500</td>\n",
       "      <td>1.047750</td>\n",
       "      <td>0.485250</td>\n",
       "      <td>0.324000</td>\n",
       "      <td>0.110000</td>\n",
       "      <td>0.050000</td>\n",
       "    </tr>\n",
       "    <tr>\n",
       "      <th>50%</th>\n",
       "      <td>78.500000</td>\n",
       "      <td>5.386000</td>\n",
       "      <td>0.954000</td>\n",
       "      <td>1.265500</td>\n",
       "      <td>0.695500</td>\n",
       "      <td>0.450000</td>\n",
       "      <td>0.175000</td>\n",
       "      <td>0.082000</td>\n",
       "    </tr>\n",
       "    <tr>\n",
       "      <th>75%</th>\n",
       "      <td>117.250000</td>\n",
       "      <td>6.182000</td>\n",
       "      <td>1.221500</td>\n",
       "      <td>1.455500</td>\n",
       "      <td>0.859750</td>\n",
       "      <td>0.543000</td>\n",
       "      <td>0.244000</td>\n",
       "      <td>0.139500</td>\n",
       "    </tr>\n",
       "    <tr>\n",
       "      <th>max</th>\n",
       "      <td>156.000000</td>\n",
       "      <td>7.769000</td>\n",
       "      <td>2.096000</td>\n",
       "      <td>1.624000</td>\n",
       "      <td>1.141000</td>\n",
       "      <td>0.724000</td>\n",
       "      <td>0.598000</td>\n",
       "      <td>0.457000</td>\n",
       "    </tr>\n",
       "  </tbody>\n",
       "</table>\n",
       "</div>"
      ],
      "text/plain": [
       "       Overall rank       Score  GDP per capita  Social support  \\\n",
       "count    312.000000  293.000000      300.000000      296.000000   \n",
       "mean      78.500000    5.392816        0.896833        1.207145   \n",
       "std       45.104737    1.108112        0.399329        0.302437   \n",
       "min        1.000000    2.853000        0.000000        0.000000   \n",
       "25%       39.750000    4.519000        0.588500        1.047750   \n",
       "50%       78.500000    5.386000        0.954000        1.265500   \n",
       "75%      117.250000    6.182000        1.221500        1.455500   \n",
       "max      156.000000    7.769000        2.096000        1.624000   \n",
       "\n",
       "       Healthy life expectancy  Freedom to make life choices  Generosity  \\\n",
       "count               286.000000                    289.000000  291.000000   \n",
       "mean                  0.659832                      0.425872    0.183309   \n",
       "std                   0.256373                      0.155103    0.096846   \n",
       "min                   0.000000                      0.000000    0.000000   \n",
       "25%                   0.485250                      0.324000    0.110000   \n",
       "50%                   0.695500                      0.450000    0.175000   \n",
       "75%                   0.859750                      0.543000    0.244000   \n",
       "max                   1.141000                      0.724000    0.598000   \n",
       "\n",
       "       Perceptions of corruption  \n",
       "count                 299.000000  \n",
       "mean                    0.110950  \n",
       "std                     0.095574  \n",
       "min                     0.000000  \n",
       "25%                     0.050000  \n",
       "50%                     0.082000  \n",
       "75%                     0.139500  \n",
       "max                     0.457000  "
      ]
     },
     "execution_count": 122,
     "metadata": {},
     "output_type": "execute_result"
    }
   ],
   "source": [
    "wh.describe()"
   ]
  },
  {
   "cell_type": "markdown",
   "id": "fec3987d-17f1-4553-a9c1-db67800b3cdb",
   "metadata": {},
   "source": [
    "3. partiendo de Wh, remplace los valores NaN de las columnas por su mean, el mean debe de ser calculado por año para ser mas exacto\n",
    "\n",
    "### resolucion ejercicio tres"
   ]
  },
  {
   "cell_type": "code",
   "execution_count": 112,
   "id": "a28b5bc7-b8b2-4d82-b669-51275100eb6a",
   "metadata": {},
   "outputs": [],
   "source": [
    "a1 = wh['Score'].mean()"
   ]
  },
  {
   "cell_type": "code",
   "execution_count": 107,
   "id": "e593e9d7-35d8-4b5d-a4c5-4633e58b9152",
   "metadata": {},
   "outputs": [],
   "source": [
    "a2 = wh['GDP per capita'].mean()"
   ]
  },
  {
   "cell_type": "code",
   "execution_count": 89,
   "id": "89775eea-4412-4060-8989-22d311b9457f",
   "metadata": {},
   "outputs": [],
   "source": [
    "a3 = wh['Social support'].mean()"
   ]
  },
  {
   "cell_type": "code",
   "execution_count": 90,
   "id": "8836ad19-3dda-4427-8b43-9f594cf387bf",
   "metadata": {},
   "outputs": [],
   "source": [
    "a4 = wh['Healthy life expectancy'].mean()"
   ]
  },
  {
   "cell_type": "code",
   "execution_count": 91,
   "id": "c26bde7c-9289-48d8-ba32-ab752f9164cd",
   "metadata": {},
   "outputs": [],
   "source": [
    "a5 = wh['Freedom to make life choices'].mean()"
   ]
  },
  {
   "cell_type": "code",
   "execution_count": 92,
   "id": "1e42ce69-285a-4329-b7ef-5cb9ab6c4545",
   "metadata": {},
   "outputs": [],
   "source": [
    "a6 = wh['Generosity'].mean()"
   ]
  },
  {
   "cell_type": "code",
   "execution_count": null,
   "id": "a6d61ce2-0948-463f-822f-a2324ce2382d",
   "metadata": {},
   "outputs": [],
   "source": [
    "a7 = wh['Perceptions of corruption'].mean()"
   ]
  },
  {
   "cell_type": "code",
   "execution_count": 99,
   "id": "fbd4441a-e872-440f-8a32-8eceb0f7af88",
   "metadata": {},
   "outputs": [],
   "source": [
    "wh1 = wh.groupby(['year']).mean()"
   ]
  },
  {
   "cell_type": "code",
   "execution_count": 115,
   "id": "5a25a0d5-a222-45fe-9a62-099ebac2866f",
   "metadata": {},
   "outputs": [],
   "source": [
    "problema3 = wh.groupby( [\"Overall rank\",\"Country or region\"] , as_index = False ).agg({\"year\":[\"count\"]})"
   ]
  },
  {
   "cell_type": "code",
   "execution_count": 117,
   "id": "f606981f-cd42-4279-ad3b-ba47a1a93bca",
   "metadata": {},
   "outputs": [],
   "source": [
    "problema3.columns = problema3.columns.droplevel(1)"
   ]
  },
  {
   "cell_type": "code",
   "execution_count": 121,
   "id": "f89e3c26-64ca-486c-a142-df737772fd97",
   "metadata": {},
   "outputs": [
    {
     "data": {
      "text/plain": [
       "<bound method NDFrame._add_numeric_operations.<locals>.mean of      Overall rank         Country or region  Score  GDP per capita  \\\n",
       "0               1                   Finland  7.632           1.305   \n",
       "1               2                    Norway  7.594           1.456   \n",
       "2               3                   Denmark  7.555           1.351   \n",
       "3               4                   Iceland  7.495           1.343   \n",
       "4               5               Switzerland  7.487           1.420   \n",
       "..            ...                       ...    ...             ...   \n",
       "151           152                    Rwanda  3.334           0.359   \n",
       "152           153                  Tanzania  3.231           0.476   \n",
       "153           154               Afghanistan  3.203           0.350   \n",
       "154           155  Central African Republic  3.083           0.026   \n",
       "155           156               South Sudan  2.853           0.306   \n",
       "\n",
       "     Social support  Healthy life expectancy  Freedom to make life choices  \\\n",
       "0             1.592                    0.874                         0.681   \n",
       "1             1.582                    0.861                         0.686   \n",
       "2             1.590                    0.868                         0.683   \n",
       "3             0.000                    0.914                         0.677   \n",
       "4             1.549                    0.927                         0.660   \n",
       "..              ...                      ...                           ...   \n",
       "151           0.711                    0.614                         0.555   \n",
       "152           0.885                    0.499                         0.417   \n",
       "153           0.517                    0.361                         0.000   \n",
       "154           0.000                    0.105                         0.225   \n",
       "155           0.575                    0.295                         0.010   \n",
       "\n",
       "     Generosity  Perceptions of corruption  year  \n",
       "0         0.202                      0.393     0  \n",
       "1         0.286                      0.340     0  \n",
       "2         0.284                      0.408     0  \n",
       "3         0.000                      0.138     0  \n",
       "4         0.256                      0.357     0  \n",
       "..          ...                        ...   ...  \n",
       "151       0.217                      0.411     0  \n",
       "152       0.276                      0.147     0  \n",
       "153       0.158                      0.025     0  \n",
       "154       0.235                      0.035     0  \n",
       "155       0.202                      0.091     0  \n",
       "\n",
       "[312 rows x 10 columns]>"
      ]
     },
     "execution_count": 121,
     "metadata": {},
     "output_type": "execute_result"
    }
   ],
   "source": [
    "wh.fillna(0).mean"
   ]
  },
  {
   "cell_type": "markdown",
   "id": "8259629a-e170-4783-8935-b20bbb261d10",
   "metadata": {},
   "source": [
    "4. Partiendo de Wh limpio, para cada metrica por pais, muestra la diferencia del ultimo valor encontrado contra el primero. "
   ]
  },
  {
   "cell_type": "markdown",
   "id": "baee1d13-6755-443f-8961-d53b44a9dca8",
   "metadata": {},
   "source": [
    "Ejemplo:"
   ]
  },
  {
   "cell_type": "code",
   "execution_count": 62,
   "id": "9c197bcd-8603-426c-a4ce-4ddab6e50d49",
   "metadata": {},
   "outputs": [
    {
     "data": {
      "text/html": [
       "<div>\n",
       "<style scoped>\n",
       "    .dataframe tbody tr th:only-of-type {\n",
       "        vertical-align: middle;\n",
       "    }\n",
       "\n",
       "    .dataframe tbody tr th {\n",
       "        vertical-align: top;\n",
       "    }\n",
       "\n",
       "    .dataframe thead th {\n",
       "        text-align: right;\n",
       "    }\n",
       "</style>\n",
       "<table border=\"1\" class=\"dataframe\">\n",
       "  <thead>\n",
       "    <tr style=\"text-align: right;\">\n",
       "      <th></th>\n",
       "      <th>Overall rank</th>\n",
       "      <th>Country or region</th>\n",
       "      <th>Score</th>\n",
       "      <th>GDP per capita</th>\n",
       "      <th>Social support</th>\n",
       "      <th>Healthy life expectancy</th>\n",
       "      <th>Freedom to make life choices</th>\n",
       "      <th>Generosity</th>\n",
       "      <th>Perceptions of corruption</th>\n",
       "      <th>year</th>\n",
       "    </tr>\n",
       "  </thead>\n",
       "  <tbody>\n",
       "    <tr>\n",
       "      <th>4</th>\n",
       "      <td>5</td>\n",
       "      <td>Switzerland</td>\n",
       "      <td>7.487</td>\n",
       "      <td>1.420</td>\n",
       "      <td>1.549</td>\n",
       "      <td>0.927</td>\n",
       "      <td>0.660</td>\n",
       "      <td>0.256</td>\n",
       "      <td>0.357</td>\n",
       "      <td>2018</td>\n",
       "    </tr>\n",
       "    <tr>\n",
       "      <th>5</th>\n",
       "      <td>6</td>\n",
       "      <td>Switzerland</td>\n",
       "      <td>7.480</td>\n",
       "      <td>1.452</td>\n",
       "      <td>1.526</td>\n",
       "      <td>1.052</td>\n",
       "      <td>0.572</td>\n",
       "      <td>0.263</td>\n",
       "      <td>0.343</td>\n",
       "      <td>2019</td>\n",
       "    </tr>\n",
       "  </tbody>\n",
       "</table>\n",
       "</div>"
      ],
      "text/plain": [
       "   Overall rank Country or region  Score  GDP per capita  Social support  \\\n",
       "4             5       Switzerland  7.487           1.420           1.549   \n",
       "5             6       Switzerland  7.480           1.452           1.526   \n",
       "\n",
       "   Healthy life expectancy  Freedom to make life choices  Generosity  \\\n",
       "4                    0.927                         0.660       0.256   \n",
       "5                    1.052                         0.572       0.263   \n",
       "\n",
       "   Perceptions of corruption  year  \n",
       "4                      0.357  2018  \n",
       "5                      0.343  2019  "
      ]
     },
     "execution_count": 62,
     "metadata": {},
     "output_type": "execute_result"
    }
   ],
   "source": [
    "wh.loc[ wh['Country or region'] == 'Switzerland' , : ]"
   ]
  },
  {
   "cell_type": "markdown",
   "id": "8a322dc9-ee13-403f-b6b0-e0be59e19cad",
   "metadata": {},
   "source": [
    "Como se puede observar para Switzerland en Score la diferencia seria 7.480 - 7.487\n",
    "\n",
    "Claramente en su solucion la columna año se debera de eliminar\n",
    "\n",
    "### resolucion ejercicio cuatro"
   ]
  },
  {
   "cell_type": "code",
   "execution_count": null,
   "id": "51892ff8-4f76-4d08-aaec-ad8960ebb1d2",
   "metadata": {},
   "outputs": [],
   "source": []
  }
 ],
 "metadata": {
  "kernelspec": {
   "display_name": "Python 3 (ipykernel)",
   "language": "python",
   "name": "python3"
  },
  "language_info": {
   "codemirror_mode": {
    "name": "ipython",
    "version": 3
   },
   "file_extension": ".py",
   "mimetype": "text/x-python",
   "name": "python",
   "nbconvert_exporter": "python",
   "pygments_lexer": "ipython3",
   "version": "3.9.7"
  }
 },
 "nbformat": 4,
 "nbformat_minor": 5
}
